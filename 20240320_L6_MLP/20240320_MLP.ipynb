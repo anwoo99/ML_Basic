{
  "cells": [
    {
      "cell_type": "markdown",
      "metadata": {
        "colab_type": "text",
        "id": "view-in-github"
      },
      "source": [
        "<a href=\"https://colab.research.google.com/github/anwoo99/ML_Basic/blob/master/20240320_MLP.ipynb\" target=\"_parent\"><img src=\"https://colab.research.google.com/assets/colab-badge.svg\" alt=\"Open In Colab\"/></a>"
      ]
    },
    {
      "cell_type": "code",
      "execution_count": 14,
      "metadata": {
        "id": "hogLCa5OJ1zz"
      },
      "outputs": [],
      "source": [
        "import torch\n",
        "import torch.nn as nn\n",
        "import torch.optim as optim"
      ]
    },
    {
      "cell_type": "code",
      "execution_count": 19,
      "metadata": {
        "colab": {
          "base_uri": "https://localhost:8080/"
        },
        "id": "W_Hy_V7DKA-9",
        "outputId": "680532fa-b07c-4cce-d945-f018bf352bc4"
      },
      "outputs": [
        {
          "name": "stdout",
          "output_type": "stream",
          "text": [
            "Epoch [1000/10000], Loss: 0.0009\n",
            "Epoch [2000/10000], Loss: 0.0003\n",
            "Epoch [3000/10000], Loss: 0.0001\n",
            "Epoch [4000/10000], Loss: 0.0001\n",
            "Epoch [5000/10000], Loss: 0.0000\n",
            "Epoch [6000/10000], Loss: 0.0000\n",
            "Epoch [7000/10000], Loss: 0.0000\n",
            "Epoch [8000/10000], Loss: 0.0000\n",
            "Epoch [9000/10000], Loss: 0.0000\n",
            "Epoch [10000/10000], Loss: 0.0000\n",
            "Accuracy: 100.0%\n",
            "tensor([[0.],\n",
            "        [1.],\n",
            "        [1.],\n",
            "        [0.]])\n"
          ]
        }
      ],
      "source": [
        "# 데이터 정의\n",
        "X = torch.Tensor([[0, 0], [0, 1], [1, 0], [1, 1]]) # 4 x 2\n",
        "y = torch.Tensor([[0], [1], [1], [0]]) # 4 x 1\n",
        "\n",
        "# MLP 모델 정의\n",
        "class MLP(nn.Module):\n",
        "    def __init__(self):\n",
        "        super(MLP, self).__init__()\n",
        "        self.layer1 = nn.Linear(2, 2)\n",
        "        self.layer2 = nn.Linear(2, 1)\n",
        "        self.sigmoid = nn.Sigmoid()\n",
        "\n",
        "    def forward(self, x):\n",
        "        x = self.sigmoid(self.layer1(x))\n",
        "        x = self.sigmoid(self.layer2(x))\n",
        "        return x\n",
        "\n",
        "# 모델, 손실 함수, 옵티마이저 초기화\n",
        "model = MLP()\n",
        "criterion = nn.BCELoss()\n",
        "optimizer = optim.Adam(model.parameters(), lr=0.1)\n",
        "\n",
        "# 훈련\n",
        "for epoch in range(10000):\n",
        "    # Forward pass\n",
        "    outputs = model(X)\n",
        "    loss = criterion(outputs, y)\n",
        "\n",
        "    # Backward and optimize\n",
        "    optimizer.zero_grad()\n",
        "    loss.backward()\n",
        "    optimizer.step()\n",
        "\n",
        "    if (epoch+1) % 1000 == 0:\n",
        "        print(f'Epoch [{epoch+1}/10000], Loss: {loss.item():.4f}')\n",
        "\n",
        "# 모델 평가\n",
        "with torch.no_grad():\n",
        "    predictions = model(X)\n",
        "    predicted = predictions.round()\n",
        "    accuracy = (predicted.eq(y).sum().float() / y.size(0)).item()\n",
        "\n",
        "print(f'Accuracy: {accuracy * 100}%')\n",
        "print(predicted )"
      ]
    },
    {
      "cell_type": "code",
      "execution_count": null,
      "metadata": {
        "id": "5_iFXntbKqD4"
      },
      "outputs": [],
      "source": []
    }
  ],
  "metadata": {
    "colab": {
      "authorship_tag": "ABX9TyP7TVEuOkFHea7JBdDcYD5X",
      "include_colab_link": true,
      "provenance": []
    },
    "kernelspec": {
      "display_name": "Python 3",
      "name": "python3"
    },
    "language_info": {
      "name": "python"
    }
  },
  "nbformat": 4,
  "nbformat_minor": 0
}
