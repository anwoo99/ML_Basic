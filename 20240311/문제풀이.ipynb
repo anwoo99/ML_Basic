{
 "cells": [
  {
   "cell_type": "code",
   "execution_count": 6,
   "id": "ddf79d46",
   "metadata": {},
   "outputs": [],
   "source": [
    "import torch\n",
    "import matplotlib.pyplot as plt\n"
   ]
  },
  {
   "cell_type": "code",
   "execution_count": 11,
   "id": "a36c58b0",
   "metadata": {},
   "outputs": [
    {
     "name": "stdout",
     "output_type": "stream",
     "text": [
      "Original Tensor x: tensor([1.], requires_grad=True)\n",
      "Result of the Expression g_x: tensor([0.0002], grad_fn=<DivBackward0>)\n",
      "Gradient of x: tensor([-0.0018])\n"
     ]
    },
    {
     "ename": "AttributeError",
     "evalue": "'NoneType' object has no attribute 'detach'",
     "output_type": "error",
     "traceback": [
      "\u001b[1;31m---------------------------------------------------------------------------\u001b[0m",
      "\u001b[1;31mAttributeError\u001b[0m                            Traceback (most recent call last)",
      "Cell \u001b[1;32mIn[11], line 27\u001b[0m\n\u001b[0;32m     25\u001b[0m \u001b[38;5;66;03m# 그래프 그리기\u001b[39;00m\n\u001b[0;32m     26\u001b[0m plt\u001b[38;5;241m.\u001b[39mplot(x_values\u001b[38;5;241m.\u001b[39mdetach()\u001b[38;5;241m.\u001b[39mnumpy(), g_x_values\u001b[38;5;241m.\u001b[39mdetach()\u001b[38;5;241m.\u001b[39mnumpy(), label\u001b[38;5;241m=\u001b[39m\u001b[38;5;124m'\u001b[39m\u001b[38;5;124mg_x\u001b[39m\u001b[38;5;124m'\u001b[39m)\n\u001b[1;32m---> 27\u001b[0m plt\u001b[38;5;241m.\u001b[39mplot(x_values\u001b[38;5;241m.\u001b[39mdetach()\u001b[38;5;241m.\u001b[39mnumpy(), g_x_prime_values\u001b[38;5;241m.\u001b[39mdetach()\u001b[38;5;241m.\u001b[39mnumpy(), label\u001b[38;5;241m=\u001b[39m\u001b[38;5;124m\"\u001b[39m\u001b[38;5;124mg_x\u001b[39m\u001b[38;5;124m'\u001b[39m\u001b[38;5;124m\"\u001b[39m)\n\u001b[0;32m     29\u001b[0m \u001b[38;5;66;03m# 기울기 계산 위치 표시\u001b[39;00m\n\u001b[0;32m     30\u001b[0m plt\u001b[38;5;241m.\u001b[39mscatter(x\u001b[38;5;241m.\u001b[39mitem(), g_x\u001b[38;5;241m.\u001b[39mitem(), color\u001b[38;5;241m=\u001b[39m\u001b[38;5;124m'\u001b[39m\u001b[38;5;124mred\u001b[39m\u001b[38;5;124m'\u001b[39m, label\u001b[38;5;241m=\u001b[39m\u001b[38;5;124m'\u001b[39m\u001b[38;5;124mGradient at x\u001b[39m\u001b[38;5;124m'\u001b[39m)\n",
      "\u001b[1;31mAttributeError\u001b[0m: 'NoneType' object has no attribute 'detach'"
     ]
    },
    {
     "data": {
      "image/png": "[encoded data removed]",
      "text/plain": [
       "<Figure size 640x480 with 1 Axes>"
      ]
     },
     "metadata": {},
     "output_type": "display_data"
    }
   ],
   "source": [
    "\"\"\"\n",
    "문제상황 1.\n",
    "\"\"\"\n",
    "# 텐서 정의\n",
    "x = torch.tensor([1.0], requires_grad=True)\n",
    "\n",
    "# 주어진 수식 정의\n",
    "g_x = (((2 * x)**(1/3))*((x + 5)**(1/2))) / ((4*x - 1)**9)\n",
    "\n",
    "# 기울기 계산\n",
    "g_x.backward()\n",
    "\n",
    "# x 값 생성\n",
    "x_values = torch.linspace(0.1, 2, 100, requires_grad=True)\n",
    "\n",
    "# 수식과 기울기 값 계산\n",
    "g_x_values = (((2 * x_values)**(1/3))*((x_values + 5)**(1/2))) / ((4*x_values - 1)**9)\n",
    "g_x_prime_values = x_values.grad\n",
    "\n",
    "# 결과 출력\n",
    "print(\"Original Tensor x:\", x)\n",
    "print(\"Result of the Expression g_x:\", g_x)\n",
    "print(\"Gradient of x:\", x.grad)\n",
    "\n",
    "# 그래프 그리기\n",
    "plt.plot(x_values.detach().numpy(), g_x_values.detach().numpy(), label='g_x')\n",
    "plt.plot(x_values.detach().numpy(), g_x_prime_values.detach().numpy(), label=\"g_x'\")\n",
    "\n",
    "# 기울기 계산 위치 표시\n",
    "plt.scatter(x.item(), g_x.item(), color='red', label='Gradient at x')\n",
    "\n",
    "# 그래프 레이블 및 범례 설정\n",
    "plt.xlabel('x')\n",
    "plt.ylabel('Values')\n",
    "plt.title('Graphs of g_x and g_x\\'')\n",
    "plt.legend()\n",
    "\n",
    "# 그래프 표시\n",
    "plt.show()"
   ]
  },
  {
   "cell_type": "code",
   "execution_count": 14,
   "id": "67c5d73f",
   "metadata": {},
   "outputs": [
    {
     "name": "stdout",
     "output_type": "stream",
     "text": [
      "Original Tensors:\n",
      "x1: tensor([1.], requires_grad=True)\n",
      "x2: tensor([1.], requires_grad=True)\n",
      "a: tensor([1.], requires_grad=True)\n",
      "b: tensor([1.], requires_grad=True)\n",
      "\n",
      "Result of the Expression f_x: tensor([0.3831], grad_fn=<DivBackward0>)\n",
      "\n",
      "Gradient of x1: tensor([-0.1818])\n",
      "Gradient of x2: tensor([-0.1818])\n",
      "Gradient of a: tensor([-0.1818])\n",
      "Gradient of b: tensor([-0.1818])\n"
     ]
    }
   ],
   "source": [
    "\"\"\"\n",
    "문제상황 2.\n",
    "\"\"\"\n",
    "x1 = torch.tensor([1.0], requires_grad=True)\n",
    "x2 = torch.tensor([1.0], requires_grad=True)\n",
    "a = torch.tensor([1.0], requires_grad=True)\n",
    "b = torch.tensor([1.0], requires_grad=True)\n",
    "f_x = torch.tanh(a*x1 + b*x2) / (1 + torch.exp(-1 * torch.cos(a*x1 + b*x2)))\n",
    "\n",
    "# 기울기 계산\n",
    "f_x.backward()\n",
    "\n",
    "# 결과 출력\n",
    "print(\"Original Tensors:\")\n",
    "print(\"x1:\", x1)\n",
    "print(\"x2:\", x2)\n",
    "print(\"a:\", a)\n",
    "print(\"b:\", b)\n",
    "print(\"\\nResult of the Expression f_x:\", f_x)\n",
    "print(\"\\nGradient of x1:\", x1.grad)\n",
    "print(\"Gradient of x2:\", x2.grad)\n",
    "print(\"Gradient of a:\", a.grad)\n",
    "print(\"Gradient of b:\", b.grad)"
   ]
  }
 ],
 "metadata": {
  "kernelspec": {
   "display_name": "Python 3 (ipykernel)",
   "language": "python",
   "name": "python3"
  },
  "language_info": {
   "codemirror_mode": {
    "name": "ipython",
    "version": 3
   },
   "file_extension": ".py",
   "mimetype": "text/x-python",
   "name": "python",
   "nbconvert_exporter": "python",
   "pygments_lexer": "ipython3",
   "version": "3.11.4"
  }
 },
 "nbformat": 4,
 "nbformat_minor": 5
}
